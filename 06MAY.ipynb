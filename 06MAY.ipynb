{
 "cells": [
  {
   "cell_type": "code",
   "execution_count": 1,
   "metadata": {},
   "outputs": [
    {
     "name": "stdout",
     "output_type": "stream",
     "text": [
      "Downloading data from https://storage.googleapis.com/tensorflow/tf-keras-datasets/imdb.npz\n",
      "17464789/17464789 [==============================] - 4s 0us/step\n",
      "Epoch 1/5\n",
      "157/157 [==============================] - 2s 12ms/step - loss: 0.6741 - accuracy: 0.5630 - val_loss: 0.6430 - val_accuracy: 0.6214\n",
      "Epoch 2/5\n",
      "157/157 [==============================] - 2s 11ms/step - loss: 0.4546 - accuracy: 0.7939 - val_loss: 0.4743 - val_accuracy: 0.7796\n",
      "Epoch 3/5\n",
      "157/157 [==============================] - 2s 11ms/step - loss: 0.2436 - accuracy: 0.9066 - val_loss: 0.4431 - val_accuracy: 0.8058\n",
      "Epoch 4/5\n",
      "157/157 [==============================] - 2s 11ms/step - loss: 0.1067 - accuracy: 0.9680 - val_loss: 0.5166 - val_accuracy: 0.7954\n",
      "Epoch 5/5\n",
      "157/157 [==============================] - 2s 11ms/step - loss: 0.0444 - accuracy: 0.9913 - val_loss: 0.5850 - val_accuracy: 0.8096\n",
      "782/782 [==============================] - 2s 2ms/step - loss: 0.5759 - accuracy: 0.8148\n",
      "Test Accuracy: 0.8148400187492371\n",
      "Downloading data from https://storage.googleapis.com/tensorflow/tf-keras-datasets/imdb_word_index.json\n",
      "1641221/1641221 [==============================] - 0s 0us/step\n",
      "1/1 [==============================] - 0s 75ms/step\n",
      "1/1 [==============================] - 0s 11ms/step\n",
      "Text: 'This movie was great! I really enjoyed it.' | Sentiment: positive | Score: 0.9916\n",
      "Text: 'The acting was terrible and the plot was boring.' | Sentiment: negative | Score: 0.3223\n"
     ]
    }
   ],
   "source": [
    "import numpy as np\n",
    "import tensorflow as tf\n",
    "from tensorflow.keras.datasets import imdb\n",
    "from tensorflow.keras.preprocessing.sequence import pad_sequences\n",
    "from tensorflow.keras.models import Sequential\n",
    "from tensorflow.keras.layers import Embedding, SimpleRNN, Dense\n",
    "\n",
    "max_features = 10000\n",
    "maxlen = 100\n",
    "\n",
    "(x_train, y_train), (x_test, y_test) = imdb.load_data(num_words=max_features)\n",
    "\n",
    "x_train = pad_sequences(x_train, maxlen=maxlen)\n",
    "x_test = pad_sequences(x_test, maxlen=maxlen)\n",
    "\n",
    "model = Sequential([\n",
    "    Embedding(max_features, 32),\n",
    "    SimpleRNN(32),\n",
    "    Dense(1, activation='sigmoid')\n",
    "])\n",
    "\n",
    "model.compile(optimizer='adam', loss='binary_crossentropy', metrics=['accuracy'])\n",
    "\n",
    "model.fit(x_train, y_train, epochs=5, batch_size=128, validation_split=0.2)\n",
    "\n",
    "loss, accuracy = model.evaluate(x_test, y_test)\n",
    "print(\"Test Accuracy:\", accuracy)\n",
    "\n",
    "def predict_sentiment(text, model, maxlen=maxlen):\n",
    "    tokens = imdb.get_word_index()\n",
    "    tokens = {k: (v + 3) for k, v in tokens.items()}\n",
    "    tokens[\"<PAD>\"] = 0\n",
    "    tokens[\"<START>\"] = 1\n",
    "    tokens[\"<UNK>\"] = 2\n",
    "    tokens[\"<UNUSED>\"] = 3\n",
    "    \n",
    "    reverse_tokens = dict([(value, key) for (key, value) in tokens.items()])\n",
    "    \n",
    "    sequence = [tokens.get(word, tokens[\"<UNK>\"]) for word in text.split()]\n",
    "    sequence = pad_sequences([sequence], maxlen=maxlen)\n",
    "    \n",
    "    prediction = model.predict(sequence)[0, 0]\n",
    "    sentiment = \"positive\" if prediction >= 0.5 else \"negative\"\n",
    "    return sentiment, prediction\n",
    "\n",
    "text1 = \"This movie was great! I really enjoyed it.\"\n",
    "text2 = \"The acting was terrible and the plot was boring.\"\n",
    "sentiment1, score1 = predict_sentiment(text1, model)\n",
    "sentiment2, score2 = predict_sentiment(text2, model)\n",
    "\n",
    "print(f\"Text: '{text1}' | Sentiment: {sentiment1} | Score: {score1:.4f}\")\n",
    "print(f\"Text: '{text2}' | Sentiment: {sentiment2} | Score: {score2:.4f}\")"
   ]
  }
 ],
 "metadata": {
  "kernelspec": {
   "display_name": "Python 3",
   "language": "python",
   "name": "python3"
  },
  "language_info": {
   "codemirror_mode": {
    "name": "ipython",
    "version": 3
   },
   "file_extension": ".py",
   "mimetype": "text/x-python",
   "name": "python",
   "nbconvert_exporter": "python",
   "pygments_lexer": "ipython3",
   "version": "3.11.4"
  }
 },
 "nbformat": 4,
 "nbformat_minor": 2
}
